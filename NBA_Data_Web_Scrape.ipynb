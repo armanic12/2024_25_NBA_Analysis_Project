{
 "cells": [
  {
   "cell_type": "markdown",
   "id": "1f0a4283-bda2-402d-addd-a3fd7c290cf9",
   "metadata": {},
   "source": [
    "# Import Packages and Download Player Data"
   ]
  },
  {
   "cell_type": "code",
   "execution_count": null,
   "id": "e4d88ff7-9921-4ad6-a2b0-8bbc472a9d59",
   "metadata": {},
   "outputs": [],
   "source": [
    "from bs4 import BeautifulSoup\n",
    "import requests\n",
    "import re\n",
    "import pandas as pd\n",
    "import numpy as np"
   ]
  },
  {
   "cell_type": "code",
   "execution_count": null,
   "id": "61c14467-da87-44b0-a353-e8283f6fa5ce",
   "metadata": {},
   "outputs": [],
   "source": [
    "# Download 2024/2025 NBA Player Data from basketball-reference.com\n",
    "url = 'https://www.basketball-reference.com/leagues/NBA_2025_per_game.html#per_game_stats'\n",
    "response = requests.get(url)\n",
    "soup = BeautifulSoup(response.text, \"html.parser\")"
   ]
  },
  {
   "cell_type": "code",
   "execution_count": null,
   "id": "97448d79-ee94-4873-80d4-65a598e10642",
   "metadata": {
    "scrolled": true
   },
   "outputs": [],
   "source": [
    "# Preview HTML output\n",
    "print(soup)"
   ]
  },
  {
   "cell_type": "markdown",
   "id": "2077cbc1-4b30-48c1-b829-e3fdaa10a618",
   "metadata": {},
   "source": [
    "# Find and gather the applicable table sections of the webpage"
   ]
  },
  {
   "cell_type": "code",
   "execution_count": null,
   "id": "966bb3d8-f41a-4eb6-b697-f7d37e13d4c3",
   "metadata": {
    "scrolled": true
   },
   "outputs": [],
   "source": [
    "# Search for data table headers and labels\n",
    "soup.find_all('th')"
   ]
  },
  {
   "cell_type": "code",
   "execution_count": null,
   "id": "68856e72-edb1-4541-9331-b591c18a5382",
   "metadata": {
    "scrolled": true
   },
   "outputs": [],
   "source": [
    "# Search for data values\n",
    "soup.find_all('td')"
   ]
  },
  {
   "cell_type": "markdown",
   "id": "2be39a7c-43d8-45b7-9a62-c4f6bb40be98",
   "metadata": {},
   "source": [
    "# Scraping the data from the website"
   ]
  },
  {
   "cell_type": "code",
   "execution_count": null,
   "id": "38a0b0a7-12c8-4968-99bc-5c1c7c378f56",
   "metadata": {},
   "outputs": [],
   "source": [
    "# Narrow down search to collect only the entries where the scope = col, this will collect the column labels and set to variable \"nba_stat_titles\"\n",
    "nba_stat_titles = soup.find_all('th', attrs={'scope': 'col'})"
   ]
  },
  {
   "cell_type": "code",
   "execution_count": null,
   "id": "18405e80-98e8-49e7-887e-ffdb0ebd87f7",
   "metadata": {
    "scrolled": true
   },
   "outputs": [],
   "source": [
    "# Preview output\n",
    "print(nba_stat_titles)"
   ]
  },
  {
   "cell_type": "code",
   "execution_count": null,
   "id": "12a8b332-9fdd-4224-8be0-ee59cb920bb9",
   "metadata": {},
   "outputs": [],
   "source": [
    "# Collect only the \"text\" value of each entry and set the output to variable, \"set\" is used here to remove duplicates\n",
    "stat_label_list = set([title.text.strip() for title in nba_stat_titles])\n",
    "\n",
    "# Preview label outputs\n",
    "print(stat_label_list)"
   ]
  },
  {
   "cell_type": "code",
   "execution_count": null,
   "id": "d72de5c7-20d6-4bdd-9df2-76f7b53b04be",
   "metadata": {},
   "outputs": [],
   "source": [
    "df = pd.DataFrame(columns = stat_label_list)\n",
    "\n",
    "df"
   ]
  },
  {
   "cell_type": "code",
   "execution_count": null,
   "id": "0c73e321-6f51-4755-af5f-0fac8af2b933",
   "metadata": {},
   "outputs": [],
   "source": [
    "# Reorder the label names to match the data from table and preview\n",
    "df_reordered = df.loc[:, ['Player', 'Age', 'Team', 'Pos', 'G', 'GS', 'MP', 'FG', 'FGA', 'FG%', '3P', '3PA', '3P%', '2P', '2PA', '2P%', 'eFG%', 'FT', 'FTA', 'FT%', 'ORB', 'DRB', 'TRB', 'AST', 'STL', 'BLK', 'TOV', 'PF', 'PTS', 'Awards']]\n",
    "\n",
    "df = df_reordered\n",
    "df"
   ]
  },
  {
   "cell_type": "code",
   "execution_count": null,
   "id": "d35e3963-fb9a-4028-a739-ee0f9c2c7a4b",
   "metadata": {
    "scrolled": true
   },
   "outputs": [],
   "source": [
    "# Search for the table data to insert to dataframe using \"tr\" elements\n",
    "soup.find_all('tr')"
   ]
  },
  {
   "cell_type": "code",
   "execution_count": null,
   "id": "0f93be72-f6f3-4ac5-a2fc-b8b2a9cbf9f0",
   "metadata": {
    "scrolled": true
   },
   "outputs": [],
   "source": [
    "# Set data to variable\n",
    "column_data = soup.find_all('tr')"
   ]
  },
  {
   "cell_type": "code",
   "execution_count": null,
   "id": "29220760-8ee5-44e4-9f6d-83ffb9d70a0d",
   "metadata": {},
   "outputs": [],
   "source": [
    "#loop to find only the individual data inside the \"tr\" elements using the \"td\" element and use loop to insert data into the dataframe\n",
    "for row in column_data[1:]:\n",
    "    row_data = row.find_all('td')\n",
    "    individual_row_data = [data.text.strip() for data in row_data]\n",
    "    \n",
    "    # Check if the number of elements matches the DataFrame columns\n",
    "    if len(individual_row_data) == len(df.columns):\n",
    "        #enter each individual row data into the dataframe from before while looping through the rows\n",
    "        length = len(df)\n",
    "        df.loc[length] = individual_row_data\n",
    "    else:\n",
    "        # Option 1: Skip rows that don't match\n",
    "        print(f\"Skipping row with {len(individual_row_data)} elements (expected {len(df.columns)})\")"
   ]
  },
  {
   "cell_type": "code",
   "execution_count": null,
   "id": "8a846af3-2505-4b16-b0e3-d615c05f3cfe",
   "metadata": {},
   "outputs": [],
   "source": [
    "df"
   ]
  },
  {
   "cell_type": "markdown",
   "id": "d5085d72-049c-42b2-8ac2-9e87c0b90fdc",
   "metadata": {},
   "source": [
    "# Cleaning data"
   ]
  },
  {
   "cell_type": "code",
   "execution_count": null,
   "id": "cefcde8a-4e95-48df-846f-bce8c7da01d9",
   "metadata": {},
   "outputs": [],
   "source": [
    "# Drop row with \"league average\"\n",
    "df = df.drop(df[df['Player'] == 'League Average'].index)\n",
    "\n",
    "df"
   ]
  },
  {
   "cell_type": "code",
   "execution_count": null,
   "id": "ab4ea6b9-2114-47e9-a934-e9a9c5f53e08",
   "metadata": {},
   "outputs": [],
   "source": [
    "#Check for duplicates\n",
    "duplicate = df[df.duplicated('Player')]\n",
    "duplicate\n",
    "\n",
    "#Leaving duplicates as they contain team specific data for players who were traded, but in some cases they should be removed or cleaned"
   ]
  },
  {
   "cell_type": "code",
   "execution_count": null,
   "id": "f0ca8245-3f70-41b2-abf3-16391fd65059",
   "metadata": {},
   "outputs": [],
   "source": [
    "# Show all columns\n",
    "pd.set_option('display.max_columns', None)\n",
    "\n",
    "# Show all rows\n",
    "pd.set_option('display.max_rows', None)\n",
    "\n",
    "# Prevent column width cutoff\n",
    "pd.set_option('display.max_colwidth', None)\n",
    "\n",
    "pd.set_option('display.width', None)"
   ]
  },
  {
   "cell_type": "code",
   "execution_count": null,
   "id": "085a25c6-1521-46c3-99ac-48ce0dea74cf",
   "metadata": {},
   "outputs": [],
   "source": [
    "#Use Fuzz to fix incorrectly formatted names\n",
    "target_players = ['Nikola JokiÄ', 'Luka DonÄiÄ', 'Kristaps PorziÅÄ£is', 'Alperen ÅengÃ¼n', 'Nikola VuÄeviÄ', 'Dennis SchrÃ¶der', 'Bogdan BogdanoviÄ', 'Jonas ValanÄiÅ«nas', 'Nikola JoviÄ', 'Jusuf NurkiÄ', 'Vasilije MiciÄ', 'Karlo MatkoviÄ', 'Lester QuiÃ±ones', 'Tidjane SalaÃ¼n', 'Moussa DiabatÃ©', 'Dario Å ariÄ', 'Armel TraorÃ©', 'Skal LabissiÃ¨re', 'Vlatko ÄanÄar']\n",
    "valid_players = ['Nikola Jokic', 'Luka Doncic', 'Kristaps Porzingis', 'Alperen Sengun', 'Nikola Vucevic', 'Dennis Schroder', 'Bogdan Bogdanovic', 'Jonas Valanciunas', 'Nikola Jovic', 'Jusuf Nurkic', 'Vasilije Micic', 'Karlo Matkovic', 'Lester Quinones', 'Tidjane Salaun', 'Moussa Diabate', 'Dario Saric', 'Armel Traore', 'Skal Labissiere', 'Vlatko Cancar']\n",
    "\n",
    "from fuzzywuzzy import process\n",
    "\n",
    "# Function to apply fuzzy fix\n",
    "def fuzzy_fix_player(val, valid_list, threshold=85):\n",
    "    match, score = process.extractOne(val, valid_list)\n",
    "    return match if score >= threshold else val\n",
    "\n",
    "# Apply fix ONLY to rows where 'player' is in target_players\n",
    "df['Player'] = df['Player'].apply(\n",
    "    lambda x: fuzzy_fix_player(x, valid_players) if x in target_players else x\n",
    ")"
   ]
  },
  {
   "cell_type": "code",
   "execution_count": null,
   "id": "730ac793-3cce-4ee8-af49-b8ae6c6b8e5d",
   "metadata": {},
   "outputs": [],
   "source": [
    "#Fix player names where the fuzz is not working\n",
    "name_mapping = {\n",
    "    \"Nikola Joki\": \"Nikola Jokic\",\n",
    "    \"Vasilije Mici\": \"Vasilije Micic\",\n",
    "    \"Dario Å\": \"Dario Saric\"\n",
    "}\n",
    "\n",
    "# Loop through each mapping and update rows that start with the key\n",
    "for start_str, new_name in name_mapping.items():\n",
    "    mask = df[\"Player\"].str.startswith(start_str, na=False)\n",
    "    df.loc[mask, \"Player\"] = new_name"
   ]
  },
  {
   "cell_type": "code",
   "execution_count": null,
   "id": "ef34846a-c47e-4e6f-968a-d5cf2fb24722",
   "metadata": {
    "scrolled": true
   },
   "outputs": [],
   "source": [
    "# Preview dataframe\n",
    "\n",
    "df"
   ]
  },
  {
   "cell_type": "code",
   "execution_count": null,
   "id": "ed45595d-caa5-4fbf-95ef-9c3bde020b6d",
   "metadata": {
    "scrolled": true
   },
   "outputs": [],
   "source": [
    "#Check for special charcters in \"Players\"\n",
    "pattern = r'[^a-zA-Z0-9 .-]'\n",
    "\n",
    "# Create a mask to identify rows with special characters\n",
    "mask = df['Player'].str.contains(pattern, regex=True)\n",
    "\n",
    "# Display rows that contain special characters\n",
    "special_char_rows = df[mask]\n",
    "special_char_rows"
   ]
  },
  {
   "cell_type": "code",
   "execution_count": null,
   "id": "acced841-383f-444c-9afb-8fa1a4bc87b2",
   "metadata": {},
   "outputs": [],
   "source": [
    "#Fill empty entries with NaN(Null) values\n",
    "df.replace(r'^\\s*$', np.nan, regex=True, inplace=True)\n",
    "\n",
    "#Remove \"Awards\" column\n",
    "df = df.drop(columns=['Awards'])"
   ]
  },
  {
   "cell_type": "code",
   "execution_count": null,
   "id": "9dc0e2cc-f06f-4595-853b-69a127f10804",
   "metadata": {
    "scrolled": true
   },
   "outputs": [],
   "source": [
    "# Preview Dataframe\n",
    "df"
   ]
  },
  {
   "cell_type": "code",
   "execution_count": null,
   "id": "8ada2d65-6f01-4a15-be1f-6f1b9e79f636",
   "metadata": {},
   "outputs": [],
   "source": [
    "#Check df datatypes\n",
    "print(df.dtypes)"
   ]
  },
  {
   "cell_type": "code",
   "execution_count": null,
   "id": "5c1d6f07-c7c8-44af-93d5-e2912fde287f",
   "metadata": {},
   "outputs": [],
   "source": [
    "#correct the df datatypes\n",
    "df = df.astype({\n",
    "    'Player': 'object',\n",
    "    'Age': 'int',\n",
    "    'Team': 'object',\n",
    "    'Pos': 'object',\n",
    "    'G': 'int',\n",
    "    'GS': 'int',\n",
    "    'MP': 'float64',\n",
    "    'FG': 'float64',\n",
    "    'FGA': 'float64',\n",
    "    'FG%': 'float64',\n",
    "    '3P': 'float64',\n",
    "    '3PA': 'float64',\n",
    "    '3P%': 'float64',\n",
    "    '2P': 'float64',\n",
    "    '2PA': 'float64',\n",
    "    '2P%': 'float64',\n",
    "    'eFG%': 'float64',\n",
    "    'FT': 'float64',\n",
    "    'FTA': 'float64',\n",
    "    'FT%': 'float64',\n",
    "    'ORB': 'float64',\n",
    "    'DRB': 'float64',\n",
    "    'TRB': 'float64',\n",
    "    'AST': 'float64',\n",
    "    'STL': 'float64',\n",
    "    'BLK': 'float64',\n",
    "    'TOV': 'float64',\n",
    "    'PF': 'float64',\n",
    "    'PTS': 'float64'\n",
    "})"
   ]
  },
  {
   "cell_type": "code",
   "execution_count": null,
   "id": "c17a32d8-6157-4d43-97ba-cfee583efe46",
   "metadata": {},
   "outputs": [],
   "source": [
    "#Check df datatypes\n",
    "print(df.dtypes)"
   ]
  },
  {
   "cell_type": "markdown",
   "id": "89b85880-2b41-48b5-8873-a460e2583148",
   "metadata": {},
   "source": [
    "# Data Manipulation"
   ]
  },
  {
   "cell_type": "code",
   "execution_count": null,
   "id": "b17efafb-0968-40f5-ba2f-e776ceda9a45",
   "metadata": {},
   "outputs": [],
   "source": [
    "# Preview Datadframe\n",
    "\n",
    "df.head()"
   ]
  },
  {
   "cell_type": "code",
   "execution_count": null,
   "id": "662065b1-dcbc-42be-a167-282768f8fcd2",
   "metadata": {},
   "outputs": [],
   "source": [
    "#Create Total columns, and round to zero decimals\n",
    "#use .astype() to to assign new columns as integer\n",
    "\n",
    "df = df.assign(\n",
    "    total_PTS = (df['PTS'] * df['G']).round(0).astype(int),\n",
    "    total_RBS = (df['TRB'] * df['G']).round(0).astype(int),\n",
    "    total_AST = (df['AST'] * df['G']).round(0).astype(int),\n",
    "    total_MP = (df['MP'] * df['G']).round(0).astype(int),\n",
    "    total_BLK = (df['BLK'] * df['G']).round(0).astype(int),\n",
    "    total_STL = (df['STL'] * df['G']).round(0).astype(int),\n",
    "    total_3PT = (df['3P'] * df['G']).round(0).astype(int),\n",
    "    total_2P = (df['2P'] * df['G']).round(0).astype(int)\n",
    ")\n",
    "\n",
    "df.head()"
   ]
  },
  {
   "cell_type": "markdown",
   "id": "9d08304b-b1c2-46aa-9af9-73510680ae4e",
   "metadata": {},
   "source": [
    "# Export NBA player data via GitHub API or local file save\n",
    "\n",
    "Please choose either method 1 or 2 to export data"
   ]
  },
  {
   "cell_type": "markdown",
   "id": "1d8d39da-ff29-4aa0-b91d-0f2bffac30fc",
   "metadata": {},
   "source": [
    "## 1. Export via GitHub API"
   ]
  },
  {
   "cell_type": "code",
   "execution_count": null,
   "id": "be069a12-7830-4c02-87e2-85d0957f65c6",
   "metadata": {},
   "outputs": [],
   "source": [
    "import base64\n",
    "\n",
    "# ==== CONFIGURATION ====\n",
    "#For security reasons, please enter your personal github repository information to export NBA25_output.csv\n",
    "\n",
    "GITHUB_TOKEN = \"YOUR_GITHUB_PERSONAL_ACCESS_TOKEN\"  #Enter Token\n",
    "OWNER = \"your-username-or-org\"       #Enter Github Username \n",
    "REPO = \"your-repo-name\"              #Enter Repository Name\n",
    "BRANCH = \"main\"                      #Enter Branch\n",
    "FILE_PATH = \"NBA25_output.csv\"\n",
    "\n",
    "# Convert DataFrame to CSV string\n",
    "csv_data = df.to_csv(index=False)\n",
    "\n",
    "# ==== PREPARE API REQUEST ====\n",
    "api_url = f\"https://api.github.com/repos/{OWNER}/{REPO}/contents/{FILE_PATH}\"\n",
    "headers = {\"Authorization\": f\"token {GITHUB_TOKEN}\"}\n",
    "\n",
    "# Check if file exists to decide between update or create\n",
    "res = requests.get(api_url, headers=headers, params={\"ref\": BRANCH})\n",
    "\n",
    "if res.status_code == 200:\n",
    "    # File exists → update\n",
    "    sha = res.json()[\"sha\"]\n",
    "    message = \"Update CSV from Python script\"\n",
    "    payload = {\n",
    "        \"message\": message,\n",
    "        \"branch\": BRANCH,\n",
    "        \"content\": base64.b64encode(csv_data.encode()).decode(),\n",
    "        \"sha\": sha\n",
    "    }\n",
    "    r = requests.put(api_url, headers=headers, json=payload)\n",
    "\n",
    "elif res.status_code == 404:\n",
    "    # File does not exist → create\n",
    "    message = \"Add CSV from Python script\"\n",
    "    payload = {\n",
    "        \"message\": message,\n",
    "        \"branch\": BRANCH,\n",
    "        \"content\": base64.b64encode(csv_data.encode()).decode()\n",
    "    }\n",
    "    r = requests.put(api_url, headers=headers, json=payload)\n",
    "\n",
    "else:\n",
    "    raise Exception(f\"Error checking file: {res.status_code}, {res.text}\")\n",
    "\n",
    "# ==== RESULT ====\n",
    "if r.status_code in (200, 201):\n",
    "    print(f\"✅ CSV uploaded to GitHub at {FILE_PATH}\")\n",
    "else:\n",
    "    print(f\"❌ Error: {r.status_code}, {r.text}\")"
   ]
  },
  {
   "cell_type": "markdown",
   "id": "f7e7b610-fbd5-4564-8564-b936badb6cb6",
   "metadata": {},
   "source": [
    "## 2. Export via local file save"
   ]
  },
  {
   "cell_type": "code",
   "execution_count": null,
   "id": "2f723aad-99a1-4c43-a1ac-3a4a89727632",
   "metadata": {},
   "outputs": [],
   "source": [
    "# Enter path to desired file download location\n",
    "df.to_csv('{ENTER_PATH_TO_FOLDER}/NBA25_output.csv', index=False)"
   ]
  }
 ],
 "metadata": {
  "kernelspec": {
   "display_name": "Python [conda env:anaconda3]",
   "language": "python",
   "name": "conda-env-anaconda3-py"
  },
  "language_info": {
   "codemirror_mode": {
    "name": "ipython",
    "version": 3
   },
   "file_extension": ".py",
   "mimetype": "text/x-python",
   "name": "python",
   "nbconvert_exporter": "python",
   "pygments_lexer": "ipython3",
   "version": "3.7.6"
  }
 },
 "nbformat": 4,
 "nbformat_minor": 5
}
